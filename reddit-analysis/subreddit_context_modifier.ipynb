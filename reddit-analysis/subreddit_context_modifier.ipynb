{
 "cells": [
  {
   "cell_type": "code",
   "execution_count": 1,
   "metadata": {},
   "outputs": [],
   "source": [
    "from _keys import db_user, db_password, db_name, db_host, db_port\n",
    "import psycopg2\n",
    "import pandas as pd"
   ]
  },
  {
   "cell_type": "code",
   "execution_count": 2,
   "metadata": {},
   "outputs": [],
   "source": [
    "conn = psycopg2.connect(dbname=db_name, user=db_user, password=db_password, host=db_host, port=db_port)\n",
    "cur = conn.cursor()"
   ]
  },
  {
   "cell_type": "code",
   "execution_count": 7,
   "metadata": {},
   "outputs": [],
   "source": [
    "df = pd.read_csv('subreddit_info_updated.csv')"
   ]
  },
  {
   "cell_type": "code",
   "execution_count": 14,
   "metadata": {},
   "outputs": [
    {
     "data": {
      "text/html": [
       "<div>\n",
       "<style scoped>\n",
       "    .dataframe tbody tr th:only-of-type {\n",
       "        vertical-align: middle;\n",
       "    }\n",
       "\n",
       "    .dataframe tbody tr th {\n",
       "        vertical-align: top;\n",
       "    }\n",
       "\n",
       "    .dataframe thead th {\n",
       "        text-align: right;\n",
       "    }\n",
       "</style>\n",
       "<table border=\"1\" class=\"dataframe\">\n",
       "  <thead>\n",
       "    <tr style=\"text-align: right;\">\n",
       "      <th></th>\n",
       "      <th>subreddit_name</th>\n",
       "      <th>user_count</th>\n",
       "      <th>sub_description</th>\n",
       "      <th>over18</th>\n",
       "      <th>created_utc</th>\n",
       "      <th>relevant</th>\n",
       "    </tr>\n",
       "  </thead>\n",
       "  <tbody>\n",
       "    <tr>\n",
       "      <th>0</th>\n",
       "      <td>announcements</td>\n",
       "      <td>150653147</td>\n",
       "      <td>Official announcements from Reddit, Inc.</td>\n",
       "      <td>False</td>\n",
       "      <td>1245256101</td>\n",
       "      <td>yes</td>\n",
       "    </tr>\n",
       "    <tr>\n",
       "      <th>1</th>\n",
       "      <td>funny</td>\n",
       "      <td>40065823</td>\n",
       "      <td>Welcome to r/Funny, Reddit's largest humour de...</td>\n",
       "      <td>False</td>\n",
       "      <td>1201242956</td>\n",
       "      <td>no</td>\n",
       "    </tr>\n",
       "    <tr>\n",
       "      <th>2</th>\n",
       "      <td>AskReddit</td>\n",
       "      <td>35566763</td>\n",
       "      <td>r/AskReddit is the place to ask and answer tho...</td>\n",
       "      <td>False</td>\n",
       "      <td>1201233135</td>\n",
       "      <td>yes</td>\n",
       "    </tr>\n",
       "    <tr>\n",
       "      <th>3</th>\n",
       "      <td>gaming</td>\n",
       "      <td>32521619</td>\n",
       "      <td>A subreddit for (almost) anything related to g...</td>\n",
       "      <td>False</td>\n",
       "      <td>1190054605</td>\n",
       "      <td>no</td>\n",
       "    </tr>\n",
       "    <tr>\n",
       "      <th>4</th>\n",
       "      <td>aww</td>\n",
       "      <td>30905860</td>\n",
       "      <td>Things that make you go AWW! Like puppies, bun...</td>\n",
       "      <td>False</td>\n",
       "      <td>1201234022</td>\n",
       "      <td>no</td>\n",
       "    </tr>\n",
       "  </tbody>\n",
       "</table>\n",
       "</div>"
      ],
      "text/plain": [
       "  subreddit_name  user_count  \\\n",
       "0  announcements   150653147   \n",
       "1          funny    40065823   \n",
       "2      AskReddit    35566763   \n",
       "3         gaming    32521619   \n",
       "4            aww    30905860   \n",
       "\n",
       "                                     sub_description  over18  created_utc  \\\n",
       "0           Official announcements from Reddit, Inc.   False   1245256101   \n",
       "1  Welcome to r/Funny, Reddit's largest humour de...   False   1201242956   \n",
       "2  r/AskReddit is the place to ask and answer tho...   False   1201233135   \n",
       "3  A subreddit for (almost) anything related to g...   False   1190054605   \n",
       "4  Things that make you go AWW! Like puppies, bun...   False   1201234022   \n",
       "\n",
       "  relevant  \n",
       "0      yes  \n",
       "1       no  \n",
       "2      yes  \n",
       "3       no  \n",
       "4       no  "
      ]
     },
     "execution_count": 14,
     "metadata": {},
     "output_type": "execute_result"
    }
   ],
   "source": [
    "df.head()"
   ]
  },
  {
   "cell_type": "code",
   "execution_count": 18,
   "metadata": {},
   "outputs": [],
   "source": [
    "for i in range(len(df)):\n",
    "    # cur.execute(\"\"\"\n",
    "    # insert into relevant_subreddit_info (subreddit, user_count, sub_description, over18, created_utc, is_relevant) values( %s, %s, %s, %s, %s, %s)\"\"\", (df['subreddit_name'][i], df['user_count'][i], df['sub_description'][i], df['over18'][i], df['created_utc'][i], df['relevant'][i]))\n",
    "    # conn.commit()\n",
    "    cur.execute(\"\"\"\n",
    "    insert into relevant_subreddit_info (subreddit, is_relevant) values( %s, %s)\"\"\", (df['subreddit_name'][i], df['relevant'][i]))\n",
    "    conn.commit()"
   ]
  }
 ],
 "metadata": {
  "interpreter": {
   "hash": "3b32922ae442944bae51de5c420d7545d4126864cdc0e7cb358b7d9924f39d3e"
  },
  "kernelspec": {
   "display_name": "Python 3.9.6 ('PythonData')",
   "language": "python",
   "name": "python3"
  },
  "language_info": {
   "codemirror_mode": {
    "name": "ipython",
    "version": 3
   },
   "file_extension": ".py",
   "mimetype": "text/x-python",
   "name": "python",
   "nbconvert_exporter": "python",
   "pygments_lexer": "ipython3",
   "version": "3.9.6"
  },
  "orig_nbformat": 4
 },
 "nbformat": 4,
 "nbformat_minor": 2
}
