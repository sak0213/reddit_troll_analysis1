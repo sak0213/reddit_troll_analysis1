{
 "cells": [
  {
   "cell_type": "code",
   "execution_count": 23,
   "metadata": {},
   "outputs": [],
   "source": [
    "import praw\n",
    "import pandas as pd\n",
    "import datetime as dt\n",
    "from keys import client_id, secret_key, username, user_agent, password"
   ]
  },
  {
   "cell_type": "code",
   "execution_count": 24,
   "metadata": {},
   "outputs": [],
   "source": [
    "def get_date(created):\n",
    "    return dt.datetime.fromtimestamp(created)"
   ]
  },
  {
   "cell_type": "code",
   "execution_count": 25,
   "metadata": {},
   "outputs": [],
   "source": [
    "reddit = praw.Reddit(client_id=client_id, client_secret=secret_key, username=username, password=password, user_agent=user_agent)\n",
    "subreddit = reddit.subreddit('Conservative')"
   ]
  },
  {
   "cell_type": "code",
   "execution_count": 26,
   "metadata": {},
   "outputs": [],
   "source": [
    "new_posts = subreddit.new(limit=5000,params={'after':'2022-02-20'})"
   ]
  },
  {
   "cell_type": "code",
   "execution_count": 27,
   "metadata": {},
   "outputs": [],
   "source": [
    "posts_dict = {\n",
    "    \"title\":[],\n",
    "    \"score\":[],\n",
    "    \"id\":[], \n",
    "    \"url\":[],\n",
    "    \"comms_num\": [],\n",
    "    \"created\": [],\n",
    "    \"body\":[]\n",
    "}"
   ]
  },
  {
   "cell_type": "code",
   "execution_count": 28,
   "metadata": {},
   "outputs": [],
   "source": [
    "for i in new_posts:\n",
    "    posts_dict[\"title\"].append(i.title)\n",
    "    posts_dict[\"score\"].append(i.score)\n",
    "    posts_dict[\"id\"].append(i.id)\n",
    "    posts_dict[\"url\"].append(i.url)\n",
    "    posts_dict[\"comms_num\"].append(i.num_comments)\n",
    "    posts_dict[\"created\"].append(i.created)\n",
    "    posts_dict[\"body\"].append(i.selftext)"
   ]
  },
  {
   "cell_type": "code",
   "execution_count": 29,
   "metadata": {},
   "outputs": [],
   "source": [
    "df = pd.DataFrame(posts_dict)"
   ]
  },
  {
   "cell_type": "code",
   "execution_count": 30,
   "metadata": {},
   "outputs": [
    {
     "data": {
      "text/html": [
       "<div>\n",
       "<style scoped>\n",
       "    .dataframe tbody tr th:only-of-type {\n",
       "        vertical-align: middle;\n",
       "    }\n",
       "\n",
       "    .dataframe tbody tr th {\n",
       "        vertical-align: top;\n",
       "    }\n",
       "\n",
       "    .dataframe thead th {\n",
       "        text-align: right;\n",
       "    }\n",
       "</style>\n",
       "<table border=\"1\" class=\"dataframe\">\n",
       "  <thead>\n",
       "    <tr style=\"text-align: right;\">\n",
       "      <th></th>\n",
       "      <th>title</th>\n",
       "      <th>score</th>\n",
       "      <th>id</th>\n",
       "      <th>url</th>\n",
       "      <th>comms_num</th>\n",
       "      <th>created</th>\n",
       "      <th>body</th>\n",
       "    </tr>\n",
       "  </thead>\n",
       "  <tbody>\n",
       "    <tr>\n",
       "      <th>0</th>\n",
       "      <td>Disney employees are staging walkouts over Flo...</td>\n",
       "      <td>11</td>\n",
       "      <td>tf4r2k</td>\n",
       "      <td>https://www.theverge.com/2022/3/15/22979440/di...</td>\n",
       "      <td>14</td>\n",
       "      <td>1.647391e+09</td>\n",
       "      <td></td>\n",
       "    </tr>\n",
       "    <tr>\n",
       "      <th>1</th>\n",
       "      <td>\"Guilty Until Proven Innocent\" - Biden Signs N...</td>\n",
       "      <td>6</td>\n",
       "      <td>tf4q4k</td>\n",
       "      <td>https://themachinegunnest.com/guilty-until-pro...</td>\n",
       "      <td>2</td>\n",
       "      <td>1.647390e+09</td>\n",
       "      <td></td>\n",
       "    </tr>\n",
       "    <tr>\n",
       "      <th>2</th>\n",
       "      <td>Zimmermann &amp; Moens: The 2014 Coup That Caused ...</td>\n",
       "      <td>7</td>\n",
       "      <td>tf4jw7</td>\n",
       "      <td>https://www.theepochtimes.com/the-coup-that-ca...</td>\n",
       "      <td>4</td>\n",
       "      <td>1.647390e+09</td>\n",
       "      <td></td>\n",
       "    </tr>\n",
       "    <tr>\n",
       "      <th>3</th>\n",
       "      <td>⭐Nigel Farage: Renewable energy schemes take m...</td>\n",
       "      <td>20</td>\n",
       "      <td>tf4hop</td>\n",
       "      <td>https://www.telegraph.co.uk/news/2022/03/15/re...</td>\n",
       "      <td>4</td>\n",
       "      <td>1.647390e+09</td>\n",
       "      <td></td>\n",
       "    </tr>\n",
       "    <tr>\n",
       "      <th>4</th>\n",
       "      <td>Australian PM's department drops widely mocked...</td>\n",
       "      <td>4</td>\n",
       "      <td>tf4hbc</td>\n",
       "      <td>https://www.stuff.co.nz/life-style/128069137/a...</td>\n",
       "      <td>2</td>\n",
       "      <td>1.647390e+09</td>\n",
       "      <td></td>\n",
       "    </tr>\n",
       "  </tbody>\n",
       "</table>\n",
       "</div>"
      ],
      "text/plain": [
       "                                               title  score      id  \\\n",
       "0  Disney employees are staging walkouts over Flo...     11  tf4r2k   \n",
       "1  \"Guilty Until Proven Innocent\" - Biden Signs N...      6  tf4q4k   \n",
       "2  Zimmermann & Moens: The 2014 Coup That Caused ...      7  tf4jw7   \n",
       "3  ⭐Nigel Farage: Renewable energy schemes take m...     20  tf4hop   \n",
       "4  Australian PM's department drops widely mocked...      4  tf4hbc   \n",
       "\n",
       "                                                 url  comms_num       created  \\\n",
       "0  https://www.theverge.com/2022/3/15/22979440/di...         14  1.647391e+09   \n",
       "1  https://themachinegunnest.com/guilty-until-pro...          2  1.647390e+09   \n",
       "2  https://www.theepochtimes.com/the-coup-that-ca...          4  1.647390e+09   \n",
       "3  https://www.telegraph.co.uk/news/2022/03/15/re...          4  1.647390e+09   \n",
       "4  https://www.stuff.co.nz/life-style/128069137/a...          2  1.647390e+09   \n",
       "\n",
       "  body  \n",
       "0       \n",
       "1       \n",
       "2       \n",
       "3       \n",
       "4       "
      ]
     },
     "execution_count": 30,
     "metadata": {},
     "output_type": "execute_result"
    }
   ],
   "source": [
    "df.head()"
   ]
  },
  {
   "cell_type": "code",
   "execution_count": 31,
   "metadata": {},
   "outputs": [],
   "source": [
    "_timestamp = df[\"created\"].apply(get_date)\n",
    "df_withtime = df.assign(timestamp=_timestamp)"
   ]
  },
  {
   "cell_type": "code",
   "execution_count": 32,
   "metadata": {},
   "outputs": [
    {
     "data": {
      "text/html": [
       "<div>\n",
       "<style scoped>\n",
       "    .dataframe tbody tr th:only-of-type {\n",
       "        vertical-align: middle;\n",
       "    }\n",
       "\n",
       "    .dataframe tbody tr th {\n",
       "        vertical-align: top;\n",
       "    }\n",
       "\n",
       "    .dataframe thead th {\n",
       "        text-align: right;\n",
       "    }\n",
       "</style>\n",
       "<table border=\"1\" class=\"dataframe\">\n",
       "  <thead>\n",
       "    <tr style=\"text-align: right;\">\n",
       "      <th></th>\n",
       "      <th>title</th>\n",
       "      <th>score</th>\n",
       "      <th>id</th>\n",
       "      <th>url</th>\n",
       "      <th>comms_num</th>\n",
       "      <th>created</th>\n",
       "      <th>body</th>\n",
       "      <th>timestamp</th>\n",
       "    </tr>\n",
       "  </thead>\n",
       "  <tbody>\n",
       "    <tr>\n",
       "      <th>965</th>\n",
       "      <td>yay us!</td>\n",
       "      <td>1222</td>\n",
       "      <td>tbgtzj</td>\n",
       "      <td>https://i.redd.it/5t7dn2becom81.jpg</td>\n",
       "      <td>22</td>\n",
       "      <td>1.646970e+09</td>\n",
       "      <td></td>\n",
       "      <td>2022-03-10 22:31:44</td>\n",
       "    </tr>\n",
       "    <tr>\n",
       "      <th>967</th>\n",
       "      <td>Nelk Podcast with Trump off YouTube as it hits...</td>\n",
       "      <td>372</td>\n",
       "      <td>tbh5r5</td>\n",
       "      <td>https://www.reddit.com/r/Conservative/comments...</td>\n",
       "      <td>59</td>\n",
       "      <td>1.646971e+09</td>\n",
       "      <td>They took down the Full Send Podcast interview...</td>\n",
       "      <td>2022-03-10 22:49:41</td>\n",
       "    </tr>\n",
       "    <tr>\n",
       "      <th>969</th>\n",
       "      <td>Russia says the U.S. is making bioweapons in U...</td>\n",
       "      <td>0</td>\n",
       "      <td>tbi6j9</td>\n",
       "      <td>https://globalnews.ca/news/8673062/russia-ukra...</td>\n",
       "      <td>8</td>\n",
       "      <td>1.646974e+09</td>\n",
       "      <td></td>\n",
       "      <td>2022-03-10 23:48:03</td>\n",
       "    </tr>\n",
       "    <tr>\n",
       "      <th>968</th>\n",
       "      <td>Whistleblower: FBI Is Just Now Asking Question...</td>\n",
       "      <td>27</td>\n",
       "      <td>tbi8ml</td>\n",
       "      <td>https://thefederalist.com/2022/03/10/whistlebl...</td>\n",
       "      <td>2</td>\n",
       "      <td>1.646974e+09</td>\n",
       "      <td></td>\n",
       "      <td>2022-03-10 23:51:36</td>\n",
       "    </tr>\n",
       "    <tr>\n",
       "      <th>966</th>\n",
       "      <td>US Under Secretary Nuland admits Ukraine house...</td>\n",
       "      <td>8</td>\n",
       "      <td>tbid7u</td>\n",
       "      <td>https://en.protothema.gr/us-under-secretary-nu...</td>\n",
       "      <td>5</td>\n",
       "      <td>1.646975e+09</td>\n",
       "      <td></td>\n",
       "      <td>2022-03-10 23:59:05</td>\n",
       "    </tr>\n",
       "  </tbody>\n",
       "</table>\n",
       "</div>"
      ],
      "text/plain": [
       "                                                 title  score      id  \\\n",
       "965                                            yay us!   1222  tbgtzj   \n",
       "967  Nelk Podcast with Trump off YouTube as it hits...    372  tbh5r5   \n",
       "969  Russia says the U.S. is making bioweapons in U...      0  tbi6j9   \n",
       "968  Whistleblower: FBI Is Just Now Asking Question...     27  tbi8ml   \n",
       "966  US Under Secretary Nuland admits Ukraine house...      8  tbid7u   \n",
       "\n",
       "                                                   url  comms_num  \\\n",
       "965                https://i.redd.it/5t7dn2becom81.jpg         22   \n",
       "967  https://www.reddit.com/r/Conservative/comments...         59   \n",
       "969  https://globalnews.ca/news/8673062/russia-ukra...          8   \n",
       "968  https://thefederalist.com/2022/03/10/whistlebl...          2   \n",
       "966  https://en.protothema.gr/us-under-secretary-nu...          5   \n",
       "\n",
       "          created                                               body  \\\n",
       "965  1.646970e+09                                                      \n",
       "967  1.646971e+09  They took down the Full Send Podcast interview...   \n",
       "969  1.646974e+09                                                      \n",
       "968  1.646974e+09                                                      \n",
       "966  1.646975e+09                                                      \n",
       "\n",
       "              timestamp  \n",
       "965 2022-03-10 22:31:44  \n",
       "967 2022-03-10 22:49:41  \n",
       "969 2022-03-10 23:48:03  \n",
       "968 2022-03-10 23:51:36  \n",
       "966 2022-03-10 23:59:05  "
      ]
     },
     "execution_count": 32,
     "metadata": {},
     "output_type": "execute_result"
    }
   ],
   "source": [
    "df_sorted = df_withtime.sort_values(by=[\"timestamp\"], ascending=True)\n",
    "#find what type of object the df is\n",
    "df_sorted.head()"
   ]
  },
  {
   "cell_type": "code",
   "execution_count": 33,
   "metadata": {},
   "outputs": [
    {
     "data": {
      "text/plain": [
       "970"
      ]
     },
     "execution_count": 33,
     "metadata": {},
     "output_type": "execute_result"
    }
   ],
   "source": [
    "len(df_sorted)"
   ]
  }
 ],
 "metadata": {
  "interpreter": {
   "hash": "3b32922ae442944bae51de5c420d7545d4126864cdc0e7cb358b7d9924f39d3e"
  },
  "kernelspec": {
   "display_name": "Python 3.9.6 ('PythonData')",
   "language": "python",
   "name": "python3"
  },
  "language_info": {
   "codemirror_mode": {
    "name": "ipython",
    "version": 3
   },
   "file_extension": ".py",
   "mimetype": "text/x-python",
   "name": "python",
   "nbconvert_exporter": "python",
   "pygments_lexer": "ipython3",
   "version": "3.9.6"
  },
  "orig_nbformat": 4
 },
 "nbformat": 4,
 "nbformat_minor": 2
}
