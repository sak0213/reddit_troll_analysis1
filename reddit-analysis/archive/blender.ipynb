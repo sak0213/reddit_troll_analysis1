{
 "cells": [
  {
   "cell_type": "code",
   "execution_count": 7,
   "metadata": {},
   "outputs": [],
   "source": [
    "import pandas as pd\n"
   ]
  },
  {
   "cell_type": "code",
   "execution_count": 8,
   "metadata": {},
   "outputs": [
    {
     "name": "stderr",
     "output_type": "stream",
     "text": [
      "C:\\Users\\steve\\anaconda3\\envs\\PythonData\\lib\\site-packages\\IPython\\core\\interactiveshell.py:3441: DtypeWarning: Columns (8) have mixed types.Specify dtype option on import or set low_memory=False.\n",
      "  exec(code_obj, self.user_global_ns, self.user_ns)\n"
     ]
    }
   ],
   "source": [
    "df1 = pd.read_csv('ad_hoc.csv')\n",
    "df2 = pd.read_csv('all_posts.csv')\n",
    "df3 = pd.read_csv('ad_hoc1.csv')"
   ]
  },
  {
   "cell_type": "code",
   "execution_count": 9,
   "metadata": {},
   "outputs": [],
   "source": [
    "#append dfs\n",
    "df = df1.append(df2)\n",
    "df = df.append(df3)"
   ]
  },
  {
   "cell_type": "code",
   "execution_count": 10,
   "metadata": {},
   "outputs": [
    {
     "data": {
      "text/html": [
       "<div>\n",
       "<style scoped>\n",
       "    .dataframe tbody tr th:only-of-type {\n",
       "        vertical-align: middle;\n",
       "    }\n",
       "\n",
       "    .dataframe tbody tr th {\n",
       "        vertical-align: top;\n",
       "    }\n",
       "\n",
       "    .dataframe thead th {\n",
       "        text-align: right;\n",
       "    }\n",
       "</style>\n",
       "<table border=\"1\" class=\"dataframe\">\n",
       "  <thead>\n",
       "    <tr style=\"text-align: right;\">\n",
       "      <th></th>\n",
       "      <th>Unnamed: 0</th>\n",
       "      <th>title</th>\n",
       "      <th>score</th>\n",
       "      <th>id</th>\n",
       "      <th>url</th>\n",
       "      <th>comms_num</th>\n",
       "      <th>created</th>\n",
       "      <th>author</th>\n",
       "      <th>author_flair_text</th>\n",
       "      <th>permalink</th>\n",
       "      <th>timestamp</th>\n",
       "    </tr>\n",
       "  </thead>\n",
       "  <tbody>\n",
       "    <tr>\n",
       "      <th>0</th>\n",
       "      <td>99</td>\n",
       "      <td>Latest 2024 GOP Poll Shows Donald Trump With D...</td>\n",
       "      <td>1.0</td>\n",
       "      <td>ru8s0b</td>\n",
       "      <td>https://bigleaguepolitics.com/latest-2024-gop-...</td>\n",
       "      <td>1.0</td>\n",
       "      <td>1.641127e+09</td>\n",
       "      <td>Dan-In-SC</td>\n",
       "      <td>NaN</td>\n",
       "      <td>/r/Republican/comments/ru8s0b/latest_2024_gop_...</td>\n",
       "      <td>2022-01-02 07:35:07</td>\n",
       "    </tr>\n",
       "    <tr>\n",
       "      <th>1</th>\n",
       "      <td>98</td>\n",
       "      <td>Empty Shelves Biden</td>\n",
       "      <td>1.0</td>\n",
       "      <td>ru7lvd</td>\n",
       "      <td>https://i.redd.it/v031ruecd6981.jpg</td>\n",
       "      <td>0.0</td>\n",
       "      <td>1.641122e+09</td>\n",
       "      <td>kipling33</td>\n",
       "      <td>NaN</td>\n",
       "      <td>/r/Republican/comments/ru7lvd/empty_shelves_bi...</td>\n",
       "      <td>2022-01-02 06:11:51</td>\n",
       "    </tr>\n",
       "    <tr>\n",
       "      <th>2</th>\n",
       "      <td>97</td>\n",
       "      <td>A thief, a child rapist, and a domestic abuser...</td>\n",
       "      <td>1.0</td>\n",
       "      <td>ru73q2</td>\n",
       "      <td>https://www.reddit.com/r/Republican/comments/r...</td>\n",
       "      <td>0.0</td>\n",
       "      <td>1.641120e+09</td>\n",
       "      <td>nololyourewrong</td>\n",
       "      <td>NaN</td>\n",
       "      <td>/r/Republican/comments/ru73q2/a_thief_a_child_...</td>\n",
       "      <td>2022-01-02 05:34:20</td>\n",
       "    </tr>\n",
       "    <tr>\n",
       "      <th>3</th>\n",
       "      <td>96</td>\n",
       "      <td>Kim Jong Un largely ignores US, South Korea in...</td>\n",
       "      <td>1.0</td>\n",
       "      <td>ru6zec</td>\n",
       "      <td>https://www.foxnews.com/world/kim-jong-un-us-s...</td>\n",
       "      <td>1.0</td>\n",
       "      <td>1.641119e+09</td>\n",
       "      <td>HawaiianDesert</td>\n",
       "      <td>NaN</td>\n",
       "      <td>/r/Republican/comments/ru6zec/kim_jong_un_larg...</td>\n",
       "      <td>2022-01-02 05:25:48</td>\n",
       "    </tr>\n",
       "    <tr>\n",
       "      <th>4</th>\n",
       "      <td>95</td>\n",
       "      <td>Canadian PM Justin Trudeau: ‘Unvaccinated Are ...</td>\n",
       "      <td>1.0</td>\n",
       "      <td>ru5qxs</td>\n",
       "      <td>https://magspunch.com/canadian-pm-justin-trude...</td>\n",
       "      <td>1.0</td>\n",
       "      <td>1.641114e+09</td>\n",
       "      <td>Kevin1141</td>\n",
       "      <td>NaN</td>\n",
       "      <td>/r/Republican/comments/ru5qxs/canadian_pm_just...</td>\n",
       "      <td>2022-01-02 03:56:15</td>\n",
       "    </tr>\n",
       "  </tbody>\n",
       "</table>\n",
       "</div>"
      ],
      "text/plain": [
       "   Unnamed: 0                                              title  score  \\\n",
       "0          99  Latest 2024 GOP Poll Shows Donald Trump With D...    1.0   \n",
       "1          98                                Empty Shelves Biden    1.0   \n",
       "2          97  A thief, a child rapist, and a domestic abuser...    1.0   \n",
       "3          96  Kim Jong Un largely ignores US, South Korea in...    1.0   \n",
       "4          95  Canadian PM Justin Trudeau: ‘Unvaccinated Are ...    1.0   \n",
       "\n",
       "       id                                                url  comms_num  \\\n",
       "0  ru8s0b  https://bigleaguepolitics.com/latest-2024-gop-...        1.0   \n",
       "1  ru7lvd                https://i.redd.it/v031ruecd6981.jpg        0.0   \n",
       "2  ru73q2  https://www.reddit.com/r/Republican/comments/r...        0.0   \n",
       "3  ru6zec  https://www.foxnews.com/world/kim-jong-un-us-s...        1.0   \n",
       "4  ru5qxs  https://magspunch.com/canadian-pm-justin-trude...        1.0   \n",
       "\n",
       "        created           author author_flair_text  \\\n",
       "0  1.641127e+09        Dan-In-SC               NaN   \n",
       "1  1.641122e+09        kipling33               NaN   \n",
       "2  1.641120e+09  nololyourewrong               NaN   \n",
       "3  1.641119e+09   HawaiianDesert               NaN   \n",
       "4  1.641114e+09        Kevin1141               NaN   \n",
       "\n",
       "                                           permalink            timestamp  \n",
       "0  /r/Republican/comments/ru8s0b/latest_2024_gop_...  2022-01-02 07:35:07  \n",
       "1  /r/Republican/comments/ru7lvd/empty_shelves_bi...  2022-01-02 06:11:51  \n",
       "2  /r/Republican/comments/ru73q2/a_thief_a_child_...  2022-01-02 05:34:20  \n",
       "3  /r/Republican/comments/ru6zec/kim_jong_un_larg...  2022-01-02 05:25:48  \n",
       "4  /r/Republican/comments/ru5qxs/canadian_pm_just...  2022-01-02 03:56:15  "
      ]
     },
     "execution_count": 10,
     "metadata": {},
     "output_type": "execute_result"
    }
   ],
   "source": [
    "df.head()"
   ]
  },
  {
   "cell_type": "code",
   "execution_count": 11,
   "metadata": {},
   "outputs": [],
   "source": [
    "df.to_csv('all_adhoc.csv', index=False)"
   ]
  }
 ],
 "metadata": {
  "interpreter": {
   "hash": "3b32922ae442944bae51de5c420d7545d4126864cdc0e7cb358b7d9924f39d3e"
  },
  "kernelspec": {
   "display_name": "Python 3.9.6 ('PythonData')",
   "language": "python",
   "name": "python3"
  },
  "language_info": {
   "codemirror_mode": {
    "name": "ipython",
    "version": 3
   },
   "file_extension": ".py",
   "mimetype": "text/x-python",
   "name": "python",
   "nbconvert_exporter": "python",
   "pygments_lexer": "ipython3",
   "version": "3.9.6"
  },
  "orig_nbformat": 4
 },
 "nbformat": 4,
 "nbformat_minor": 2
}
