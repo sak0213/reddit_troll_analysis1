{
 "cells": [
  {
   "cell_type": "code",
   "execution_count": 1,
   "metadata": {},
   "outputs": [],
   "source": [
    "import praw\n",
    "import pandas as pd\n",
    "import datetime as dt\n",
    "from keys import client_id, secret_key, username, user_agent, password"
   ]
  },
  {
   "cell_type": "code",
   "execution_count": 2,
   "metadata": {},
   "outputs": [],
   "source": [
    "def get_date(created):\n",
    "    return dt.datetime.fromtimestamp(created)"
   ]
  },
  {
   "cell_type": "code",
   "execution_count": 3,
   "metadata": {},
   "outputs": [],
   "source": [
    "reddit = praw.Reddit(client_id=client_id, client_secret=secret_key, username=username, password=password, user_agent=user_agent)\n",
    "subreddit = reddit.subreddit('conspiracy')"
   ]
  },
  {
   "cell_type": "code",
   "execution_count": 4,
   "metadata": {},
   "outputs": [],
   "source": [
    "new_posts = subreddit.new(limit=5000,params={'after':'2022-02-20'})"
   ]
  },
  {
   "cell_type": "code",
   "execution_count": 5,
   "metadata": {},
   "outputs": [],
   "source": [
    "posts_dict = {\n",
    "    \"title\":[],\n",
    "    \"score\":[],\n",
    "    \"id\":[], \n",
    "    \"url\":[],\n",
    "    \"comms_num\": [],\n",
    "    \"created\": [],\n",
    "    \"body\":[]\n",
    "}"
   ]
  },
  {
   "cell_type": "code",
   "execution_count": 6,
   "metadata": {},
   "outputs": [],
   "source": [
    "for i in new_posts:\n",
    "    posts_dict[\"title\"].append(i.title)\n",
    "    posts_dict[\"score\"].append(i.score)\n",
    "    posts_dict[\"id\"].append(i.id)\n",
    "    posts_dict[\"url\"].append(i.url)\n",
    "    posts_dict[\"comms_num\"].append(i.num_comments)\n",
    "    posts_dict[\"created\"].append(i.created)\n",
    "    posts_dict[\"body\"].append(i.selftext)"
   ]
  },
  {
   "cell_type": "code",
   "execution_count": 7,
   "metadata": {},
   "outputs": [],
   "source": [
    "df = pd.DataFrame(posts_dict)"
   ]
  },
  {
   "cell_type": "code",
   "execution_count": 8,
   "metadata": {},
   "outputs": [
    {
     "data": {
      "text/html": [
       "<div>\n",
       "<style scoped>\n",
       "    .dataframe tbody tr th:only-of-type {\n",
       "        vertical-align: middle;\n",
       "    }\n",
       "\n",
       "    .dataframe tbody tr th {\n",
       "        vertical-align: top;\n",
       "    }\n",
       "\n",
       "    .dataframe thead th {\n",
       "        text-align: right;\n",
       "    }\n",
       "</style>\n",
       "<table border=\"1\" class=\"dataframe\">\n",
       "  <thead>\n",
       "    <tr style=\"text-align: right;\">\n",
       "      <th></th>\n",
       "      <th>title</th>\n",
       "      <th>score</th>\n",
       "      <th>id</th>\n",
       "      <th>url</th>\n",
       "      <th>comms_num</th>\n",
       "      <th>created</th>\n",
       "      <th>body</th>\n",
       "    </tr>\n",
       "  </thead>\n",
       "  <tbody>\n",
       "    <tr>\n",
       "      <th>0</th>\n",
       "      <td>There is a mass transfer of American armored v...</td>\n",
       "      <td>4</td>\n",
       "      <td>tf54xz</td>\n",
       "      <td>https://imgur.com/a/MgMOvgr</td>\n",
       "      <td>1</td>\n",
       "      <td>1.647392e+09</td>\n",
       "      <td></td>\n",
       "    </tr>\n",
       "    <tr>\n",
       "      <th>1</th>\n",
       "      <td>Where are the oligarchs headed ? Same place th...</td>\n",
       "      <td>1</td>\n",
       "      <td>tf546x</td>\n",
       "      <td>https://www.haaretz.com/israel-news/.premium.H...</td>\n",
       "      <td>1</td>\n",
       "      <td>1.647392e+09</td>\n",
       "      <td></td>\n",
       "    </tr>\n",
       "    <tr>\n",
       "      <th>2</th>\n",
       "      <td>Pfizer and BioNTech seek authorization of seco...</td>\n",
       "      <td>2</td>\n",
       "      <td>tf52ie</td>\n",
       "      <td>https://12ft.io/proxy?q=https%3A%2F%2Fwww.wash...</td>\n",
       "      <td>2</td>\n",
       "      <td>1.647391e+09</td>\n",
       "      <td></td>\n",
       "    </tr>\n",
       "    <tr>\n",
       "      <th>3</th>\n",
       "      <td>What is the absolute craziest thing a desponde...</td>\n",
       "      <td>0</td>\n",
       "      <td>tf4yyf</td>\n",
       "      <td>https://www.reddit.com/r/conspiracy/comments/t...</td>\n",
       "      <td>20</td>\n",
       "      <td>1.647391e+09</td>\n",
       "      <td>Got to thinking about this today, be creative!...</td>\n",
       "    </tr>\n",
       "    <tr>\n",
       "      <th>4</th>\n",
       "      <td>US Operation CHASE (literally Cut Holes And Si...</td>\n",
       "      <td>4</td>\n",
       "      <td>tf4ydg</td>\n",
       "      <td>https://en.m.wikipedia.org/wiki/Operation_CHASE</td>\n",
       "      <td>3</td>\n",
       "      <td>1.647391e+09</td>\n",
       "      <td></td>\n",
       "    </tr>\n",
       "  </tbody>\n",
       "</table>\n",
       "</div>"
      ],
      "text/plain": [
       "                                               title  score      id  \\\n",
       "0  There is a mass transfer of American armored v...      4  tf54xz   \n",
       "1  Where are the oligarchs headed ? Same place th...      1  tf546x   \n",
       "2  Pfizer and BioNTech seek authorization of seco...      2  tf52ie   \n",
       "3  What is the absolute craziest thing a desponde...      0  tf4yyf   \n",
       "4  US Operation CHASE (literally Cut Holes And Si...      4  tf4ydg   \n",
       "\n",
       "                                                 url  comms_num       created  \\\n",
       "0                        https://imgur.com/a/MgMOvgr          1  1.647392e+09   \n",
       "1  https://www.haaretz.com/israel-news/.premium.H...          1  1.647392e+09   \n",
       "2  https://12ft.io/proxy?q=https%3A%2F%2Fwww.wash...          2  1.647391e+09   \n",
       "3  https://www.reddit.com/r/conspiracy/comments/t...         20  1.647391e+09   \n",
       "4    https://en.m.wikipedia.org/wiki/Operation_CHASE          3  1.647391e+09   \n",
       "\n",
       "                                                body  \n",
       "0                                                     \n",
       "1                                                     \n",
       "2                                                     \n",
       "3  Got to thinking about this today, be creative!...  \n",
       "4                                                     "
      ]
     },
     "execution_count": 8,
     "metadata": {},
     "output_type": "execute_result"
    }
   ],
   "source": [
    "df.head()"
   ]
  },
  {
   "cell_type": "code",
   "execution_count": 9,
   "metadata": {},
   "outputs": [],
   "source": [
    "_timestamp = df[\"created\"].apply(get_date)\n",
    "df_withtime = df.assign(timestamp=_timestamp)"
   ]
  },
  {
   "cell_type": "code",
   "execution_count": 10,
   "metadata": {},
   "outputs": [
    {
     "data": {
      "text/html": [
       "<div>\n",
       "<style scoped>\n",
       "    .dataframe tbody tr th:only-of-type {\n",
       "        vertical-align: middle;\n",
       "    }\n",
       "\n",
       "    .dataframe tbody tr th {\n",
       "        vertical-align: top;\n",
       "    }\n",
       "\n",
       "    .dataframe thead th {\n",
       "        text-align: right;\n",
       "    }\n",
       "</style>\n",
       "<table border=\"1\" class=\"dataframe\">\n",
       "  <thead>\n",
       "    <tr style=\"text-align: right;\">\n",
       "      <th></th>\n",
       "      <th>title</th>\n",
       "      <th>score</th>\n",
       "      <th>id</th>\n",
       "      <th>url</th>\n",
       "      <th>comms_num</th>\n",
       "      <th>created</th>\n",
       "      <th>body</th>\n",
       "      <th>timestamp</th>\n",
       "    </tr>\n",
       "  </thead>\n",
       "  <tbody>\n",
       "    <tr>\n",
       "      <th>986</th>\n",
       "      <td>Has anybody considered the possibility of a Uk...</td>\n",
       "      <td>33</td>\n",
       "      <td>tdivyg</td>\n",
       "      <td>https://www.reddit.com/r/conspiracy/comments/t...</td>\n",
       "      <td>20</td>\n",
       "      <td>1.647212e+09</td>\n",
       "      <td></td>\n",
       "      <td>2022-03-13 18:56:45</td>\n",
       "    </tr>\n",
       "    <tr>\n",
       "      <th>985</th>\n",
       "      <td>2045: A New Era for Humanity</td>\n",
       "      <td>8</td>\n",
       "      <td>tdix4b</td>\n",
       "      <td>https://youtu.be/01hbkh4hXEk</td>\n",
       "      <td>4</td>\n",
       "      <td>1.647212e+09</td>\n",
       "      <td></td>\n",
       "      <td>2022-03-13 18:58:16</td>\n",
       "    </tr>\n",
       "    <tr>\n",
       "      <th>984</th>\n",
       "      <td>RUSSIA requesting MILITARY help from CHINA. Is...</td>\n",
       "      <td>28</td>\n",
       "      <td>tdj0a9</td>\n",
       "      <td>https://www.reddit.com/r/conspiracy/comments/t...</td>\n",
       "      <td>47</td>\n",
       "      <td>1.647213e+09</td>\n",
       "      <td>\\nhttps://www.reuters.com/world/russia-seeks-m...</td>\n",
       "      <td>2022-03-13 19:02:26</td>\n",
       "    </tr>\n",
       "    <tr>\n",
       "      <th>983</th>\n",
       "      <td>Austria Scraps Mandatory COVID-19 Vaccination Law</td>\n",
       "      <td>193</td>\n",
       "      <td>tdj4zo</td>\n",
       "      <td>https://coronanews123.wordpress.com/2022/03/13...</td>\n",
       "      <td>25</td>\n",
       "      <td>1.647213e+09</td>\n",
       "      <td></td>\n",
       "      <td>2022-03-13 19:08:57</td>\n",
       "    </tr>\n",
       "    <tr>\n",
       "      <th>982</th>\n",
       "      <td>I have no idea what to do with this informatio...</td>\n",
       "      <td>5</td>\n",
       "      <td>tdj7ad</td>\n",
       "      <td>https://www.reddit.com/r/conspiracy/comments/t...</td>\n",
       "      <td>29</td>\n",
       "      <td>1.647213e+09</td>\n",
       "      <td></td>\n",
       "      <td>2022-03-13 19:12:06</td>\n",
       "    </tr>\n",
       "  </tbody>\n",
       "</table>\n",
       "</div>"
      ],
      "text/plain": [
       "                                                 title  score      id  \\\n",
       "986  Has anybody considered the possibility of a Uk...     33  tdivyg   \n",
       "985                       2045: A New Era for Humanity      8  tdix4b   \n",
       "984  RUSSIA requesting MILITARY help from CHINA. Is...     28  tdj0a9   \n",
       "983  Austria Scraps Mandatory COVID-19 Vaccination Law    193  tdj4zo   \n",
       "982  I have no idea what to do with this informatio...      5  tdj7ad   \n",
       "\n",
       "                                                   url  comms_num  \\\n",
       "986  https://www.reddit.com/r/conspiracy/comments/t...         20   \n",
       "985                       https://youtu.be/01hbkh4hXEk          4   \n",
       "984  https://www.reddit.com/r/conspiracy/comments/t...         47   \n",
       "983  https://coronanews123.wordpress.com/2022/03/13...         25   \n",
       "982  https://www.reddit.com/r/conspiracy/comments/t...         29   \n",
       "\n",
       "          created                                               body  \\\n",
       "986  1.647212e+09                                                      \n",
       "985  1.647212e+09                                                      \n",
       "984  1.647213e+09  \\nhttps://www.reuters.com/world/russia-seeks-m...   \n",
       "983  1.647213e+09                                                      \n",
       "982  1.647213e+09                                                      \n",
       "\n",
       "              timestamp  \n",
       "986 2022-03-13 18:56:45  \n",
       "985 2022-03-13 18:58:16  \n",
       "984 2022-03-13 19:02:26  \n",
       "983 2022-03-13 19:08:57  \n",
       "982 2022-03-13 19:12:06  "
      ]
     },
     "execution_count": 10,
     "metadata": {},
     "output_type": "execute_result"
    }
   ],
   "source": [
    "df_sorted = df_withtime.sort_values(by=[\"timestamp\"], ascending=True)\n",
    "#find what type of object the df is\n",
    "df_sorted.head()"
   ]
  },
  {
   "cell_type": "code",
   "execution_count": 11,
   "metadata": {},
   "outputs": [
    {
     "data": {
      "text/plain": [
       "987"
      ]
     },
     "execution_count": 11,
     "metadata": {},
     "output_type": "execute_result"
    }
   ],
   "source": [
    "len(df_sorted)"
   ]
  }
 ],
 "metadata": {
  "interpreter": {
   "hash": "3b32922ae442944bae51de5c420d7545d4126864cdc0e7cb358b7d9924f39d3e"
  },
  "kernelspec": {
   "display_name": "Python 3.9.6 ('PythonData')",
   "language": "python",
   "name": "python3"
  },
  "language_info": {
   "codemirror_mode": {
    "name": "ipython",
    "version": 3
   },
   "file_extension": ".py",
   "mimetype": "text/x-python",
   "name": "python",
   "nbconvert_exporter": "python",
   "pygments_lexer": "ipython3",
   "version": "3.9.6"
  },
  "orig_nbformat": 4
 },
 "nbformat": 4,
 "nbformat_minor": 2
}
