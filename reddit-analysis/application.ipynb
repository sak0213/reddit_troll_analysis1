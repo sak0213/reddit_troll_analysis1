{
 "cells": [
  {
   "cell_type": "code",
   "execution_count": 1,
   "metadata": {},
   "outputs": [],
   "source": [
    "from _keys import db_user, db_password, db_name, db_host, db_port\n",
    "import psycopg2\n",
    "import pandas as pd\n",
    "from nltk.corpus import stopwords\n",
    "from sklearn.feature_extraction.text import CountVectorizer\n",
    "from sklearn.feature_extraction.text import TfidfTransformer\n",
    "import pickle\n",
    "stop=set(stopwords.words('english'))"
   ]
  },
  {
   "cell_type": "code",
   "execution_count": 2,
   "metadata": {},
   "outputs": [],
   "source": [
    "with open('new_rand_clf_model.pkl', 'rb') as f:\n",
    "    new_model = pickle.load(f)\n",
    "\n",
    "with open('new_rand_clf_model_feature_names.pkl', 'rb') as f:\n",
    "    main_features = pickle.load(f)"
   ]
  },
  {
   "cell_type": "code",
   "execution_count": 3,
   "metadata": {},
   "outputs": [],
   "source": [
    "conn = psycopg2.connect(dbname=db_name, user=db_user, password=db_password, host=db_host, port=db_port)\n",
    "sql = \"\"\"\n",
    "select author, title, id \n",
    "from posts \n",
    "where author in (\n",
    "\tselect author \n",
    "\tfrom posts \n",
    "\tgroup by author \n",
    "\thaving count(*) >= 20)\n",
    "\"\"\""
   ]
  },
  {
   "cell_type": "code",
   "execution_count": 4,
   "metadata": {},
   "outputs": [],
   "source": [
    "cur = conn.cursor()\n",
    "cur.execute(sql)\n",
    "output = cur.fetchall()"
   ]
  },
  {
   "cell_type": "code",
   "execution_count": 5,
   "metadata": {},
   "outputs": [],
   "source": [
    "authors = []\n",
    "posts = []\n",
    "post_ids = []\n",
    "for i in range(len(output)):\n",
    "    authors.append(output[i][0])\n",
    "    posts.append(output[i][1])\n",
    "    post_ids.append(output[i][2])"
   ]
  },
  {
   "cell_type": "code",
   "execution_count": 6,
   "metadata": {},
   "outputs": [
    {
     "name": "stdout",
     "output_type": "stream",
     "text": [
      "Dataframe Created\n"
     ]
    }
   ],
   "source": [
    "cv = CountVectorizer(min_df=1, vocabulary=main_features)\n",
    "word_count_vector = cv.fit_transform(posts)\n",
    "tfid_transformer = TfidfTransformer(smooth_idf=True, use_idf=True)\n",
    "tfid_transformer.fit(word_count_vector)\n",
    "tf_idf_vectors = tfid_transformer.transform(word_count_vector)\n",
    "feature_names = cv.get_feature_names_out()\n",
    "df = pd.DataFrame(tf_idf_vectors.T.todense(), index=feature_names, columns=post_ids)\n",
    "print(\"Dataframe Created\")\n",
    "df = df.T\n",
    "df['___author'] = authors"
   ]
  },
  {
   "cell_type": "code",
   "execution_count": 9,
   "metadata": {},
   "outputs": [
    {
     "name": "stdout",
     "output_type": "stream",
     "text": [
      "DF Renamed\n"
     ]
    }
   ],
   "source": [
    "df = df.reset_index()\n",
    "df = df.rename(columns={'index':'post_id'})\n",
    "print(\"DF Renamed\")"
   ]
  },
  {
   "cell_type": "code",
   "execution_count": null,
   "metadata": {},
   "outputs": [],
   "source": [
    "X = df.drop(['___author', \"post_id\"], axis=1)\n",
    "predictions = new_model.predict(X)"
   ]
  },
  {
   "cell_type": "code",
   "execution_count": null,
   "metadata": {},
   "outputs": [],
   "source": [
    "df['predictions'] = predictions"
   ]
  },
  {
   "cell_type": "code",
   "execution_count": null,
   "metadata": {},
   "outputs": [],
   "source": [
    "df_adjusted = df[['___author', 'predictions', 'post_id']]"
   ]
  },
  {
   "cell_type": "code",
   "execution_count": null,
   "metadata": {},
   "outputs": [],
   "source": [
    "df_adjusted.to_csv('current_post_predictions.csv')"
   ]
  }
 ],
 "metadata": {
  "interpreter": {
   "hash": "3b32922ae442944bae51de5c420d7545d4126864cdc0e7cb358b7d9924f39d3e"
  },
  "kernelspec": {
   "display_name": "Python 3.9.6 ('PythonData')",
   "language": "python",
   "name": "python3"
  },
  "language_info": {
   "codemirror_mode": {
    "name": "ipython",
    "version": 3
   },
   "file_extension": ".py",
   "mimetype": "text/x-python",
   "name": "python",
   "nbconvert_exporter": "python",
   "pygments_lexer": "ipython3",
   "version": "3.9.6"
  },
  "orig_nbformat": 4
 },
 "nbformat": 4,
 "nbformat_minor": 2
}
