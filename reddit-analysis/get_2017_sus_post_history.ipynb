{
 "cells": [
  {
   "cell_type": "code",
   "execution_count": 176,
   "metadata": {},
   "outputs": [],
   "source": [
    "import praw\n",
    "from _keys import client_id, secret_key, username, user_agent, password, db_user, db_password, db_name, db_host, db_port\n",
    "import psycopg2\n",
    "import time"
   ]
  },
  {
   "cell_type": "code",
   "execution_count": 177,
   "metadata": {},
   "outputs": [],
   "source": [
    "reddit = praw.Reddit(client_id=client_id, client_secret=secret_key, username=username, password=password, user_agent=user_agent)\n",
    "conn = psycopg2.connect(dbname=db_name, user=db_user, password=db_password, host=db_host, port=db_port)\n",
    "cur = conn.cursor()"
   ]
  },
  {
   "cell_type": "code",
   "execution_count": 178,
   "metadata": {},
   "outputs": [],
   "source": [
    "sql = \"\"\"select sus_user_name\n",
    "from public.sus_users\"\"\""
   ]
  },
  {
   "cell_type": "code",
   "execution_count": 179,
   "metadata": {},
   "outputs": [],
   "source": [
    "# Get all sus_user_names and save to list\n",
    "names = []\n",
    "cur.execute(sql)\n",
    "for row in cur:\n",
    "    names.append(row[0])"
   ]
  },
  {
   "cell_type": "code",
   "execution_count": 180,
   "metadata": {},
   "outputs": [],
   "source": [
    "# table_column_sql = \"\"\"select column_name\n",
    "# from information_schema.columns\n",
    "# where table_schema = 'public'\n",
    "# and table_name = 'sus_user_posts'\"\"\""
   ]
  },
  {
   "cell_type": "code",
   "execution_count": 181,
   "metadata": {},
   "outputs": [],
   "source": [
    "# table_columns = []\n",
    "# data_inserts_columns = []\n",
    "# api_calls_columns = []\n",
    "# cur.execute(table_column_sql)\n",
    "# for row in cur:\n",
    "#     #add to lists and remove \"'\"\n",
    "#     table_columns.append(row[0].strip(\"'\"))\n",
    "#     # table_columns.append(row[0])\n",
    "#     data_inserts_columns.append('%s')\n",
    "#     api_calls_columns.append(f'submission.{row[0]}')"
   ]
  },
  {
   "cell_type": "code",
   "execution_count": 182,
   "metadata": {},
   "outputs": [],
   "source": [
    "sql_insert = \"\"\"INSERT INTO public.sus_user_posts (author, author_fullname, author_flair_text, author_is_blocked, author_premium, can_mod_post,\n",
    " created_utm, domain, id, is_created_from_ads_ui, is_crosspostable, is_meta, is_original_content, is_reddit_media_domain, is_robot_indexable,\n",
    " is_self, is_video, locked, over_18, permalink, subreddit_id, title, url, post_score, subreddit, top_lvl_comments, total_comments) VALUES (%s, %s, %s, %s, %s, %s, %s, %s, %s, %s, %s, %s, %s, %s, %s, %s, %s, %s, %s, %s, %s, %s, %s, %s, %s, %s, %s)\"\"\""
   ]
  },
  {
   "cell_type": "code",
   "execution_count": 183,
   "metadata": {},
   "outputs": [],
   "source": [
    "for name in names:\n",
    "    try:\n",
    "        user = reddit.redditor(name)\n",
    "        submissions = user.submissions.top(limit=None)\n",
    "        for submission in submissions:\n",
    "            cur.execute(sql_insert, (name, submission.author_fullname, submission.author_flair_text, submission.author_is_blocked, submission.author_premium, submission.can_mod_post, submission.created_utc, submission.domain, submission.id, submission.is_created_from_ads_ui, submission.is_crosspostable, submission.is_meta, submission.is_original_content, submission.is_reddit_media_domain, submission.is_robot_indexable, submission.is_self, submission.is_video, submission.locked, submission.over_18, submission.permalink, submission.subreddit_id, submission.title, submission.url, submission.score, submission.subreddit.display_name, submission.comments.__len__(), len(submission.comments.list())))\n",
    "            conn.commit()\n",
    "    except Exception as e:\n",
    "        print(e)\n",
    "        time.sleep(1)\n",
    "        continue"
   ]
  }
 ],
 "metadata": {
  "interpreter": {
   "hash": "3b32922ae442944bae51de5c420d7545d4126864cdc0e7cb358b7d9924f39d3e"
  },
  "kernelspec": {
   "display_name": "Python 3.9.6 ('PythonData')",
   "language": "python",
   "name": "python3"
  },
  "language_info": {
   "codemirror_mode": {
    "name": "ipython",
    "version": 3
   },
   "file_extension": ".py",
   "mimetype": "text/x-python",
   "name": "python",
   "nbconvert_exporter": "python",
   "pygments_lexer": "ipython3",
   "version": "3.9.6"
  },
  "orig_nbformat": 4
 },
 "nbformat": 4,
 "nbformat_minor": 2
}
