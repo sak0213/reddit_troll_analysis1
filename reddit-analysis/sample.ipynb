{
 "cells": [
  {
   "cell_type": "code",
   "execution_count": 21,
   "metadata": {},
   "outputs": [],
   "source": [
    "from _keys import db_user, db_password, db_name, db_host, db_port\n",
    "import psycopg2\n",
    "import pandas as pd"
   ]
  },
  {
   "cell_type": "code",
   "execution_count": 22,
   "metadata": {},
   "outputs": [],
   "source": [
    "conn = psycopg2.connect(dbname=db_name, user=db_user, password=db_password, host=db_host, port=db_port)\n",
    "cur = conn.cursor()"
   ]
  },
  {
   "cell_type": "code",
   "execution_count": 23,
   "metadata": {},
   "outputs": [],
   "source": [
    "sql = \"\"\"\n",
    "select t1.author, subreddit, submission, to_timestamp(time_created)::date as post_created, to_timestamp(account_created)::date as account_created, t1.is_bot from\n",
    "\t(select *\n",
    "\tfrom (\n",
    "\t\tselect author, title as submission, created_utm as time_created, subreddit, 'post' as submission_type, 'True' as is_bot\n",
    "\t\tfrom sus_user_posts\n",
    "\t\twhere title !='This account is banned and is temporarily preserved for purposes of transparency.') as posts_aggregate\n",
    "\tunion\n",
    "\tselect *\n",
    "\tfrom (\n",
    "\t\tselect author, title as submission, created_utm as time_created, subreddit, 'post' as submission_type, 'False' as is_bot\n",
    "\t\tfrom norm_user_posts) as norm_posts_aggregate\n",
    "\twhere subreddit in ( \n",
    "\t\tselect subreddit\n",
    "\t\tfrom sus_user_posts\n",
    "\t\tinner join subreddit_info on sus_user_posts.subreddit = subreddit_info.subreddit_name\n",
    "\t\twhere over18 = 'False'and subreddit not in ('u_reddit', 'funny', 'gifs', 'aww', 'AnimalsBeingBros', 'corgi', 'gif', 'cats', 'memes', 'pics', 'dogpictures', 'puppies', 'UpliftingNews', 'celebrities')\n",
    "\t\tgroup by subreddit\n",
    "\t\torder by count(*) desc\n",
    "\t\tlimit 30)) \n",
    "\tas t1\n",
    "inner join (\n",
    "\tselect *\n",
    "\tfrom (\n",
    "\t\tselect sus_user_name as author, account_created as account_created, 'True' as is_bot\n",
    "\t\tfrom sus_users\n",
    "\t) as sus_users\n",
    "\tunion\n",
    "\tselect  *\n",
    "\tfrom (\n",
    "\t\tselect norm_user_name as author, account_created as account_created, 'False' as is_bot\n",
    "\t\tfrom norm_users\n",
    "\t) as norm_users\n",
    "\t)as t2 on t1.author = t2.author\n",
    "limit 2000\n",
    "\"\"\""
   ]
  },
  {
   "cell_type": "code",
   "execution_count": 24,
   "metadata": {},
   "outputs": [],
   "source": [
    "df = pd.read_sql(sql, conn)\n",
    "df.to_csv('sample_data.csv', index=False)"
   ]
  }
 ],
 "metadata": {
  "interpreter": {
   "hash": "3b32922ae442944bae51de5c420d7545d4126864cdc0e7cb358b7d9924f39d3e"
  },
  "kernelspec": {
   "display_name": "Python 3.9.6 ('PythonData')",
   "language": "python",
   "name": "python3"
  },
  "language_info": {
   "codemirror_mode": {
    "name": "ipython",
    "version": 3
   },
   "file_extension": ".py",
   "mimetype": "text/x-python",
   "name": "python",
   "nbconvert_exporter": "python",
   "pygments_lexer": "ipython3",
   "version": "3.9.6"
  },
  "orig_nbformat": 4
 },
 "nbformat": 4,
 "nbformat_minor": 2
}
