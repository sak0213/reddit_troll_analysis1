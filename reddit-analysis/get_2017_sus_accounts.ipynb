{
 "cells": [
  {
   "cell_type": "code",
   "execution_count": 45,
   "metadata": {},
   "outputs": [],
   "source": [
    "import pandas as pd"
   ]
  },
  {
   "cell_type": "code",
   "execution_count": 46,
   "metadata": {},
   "outputs": [],
   "source": [
    "df1 = pd.read_csv(\"suspicious_accounts.csv\")"
   ]
  },
  {
   "cell_type": "code",
   "execution_count": 47,
   "metadata": {},
   "outputs": [],
   "source": [
    "suspect_user_list = df1[\"Username\"]"
   ]
  },
  {
   "cell_type": "code",
   "execution_count": 48,
   "metadata": {},
   "outputs": [],
   "source": [
    "import psycopg2\n",
    "from _keys import db_password, db_name, db_host, db_port, db_user, client_id, secret_key, username, user_agent, password\n",
    "import praw"
   ]
  },
  {
   "cell_type": "code",
   "execution_count": 49,
   "metadata": {},
   "outputs": [],
   "source": [
    "reddit = praw.Reddit(client_id=client_id, client_secret=secret_key, username=username, password=password, user_agent=user_agent)\n",
    "conn = psycopg2.connect(dbname=db_name, user=db_user, password=db_password, host=db_host, port=db_port)\n",
    "cur = conn.cursor()"
   ]
  },
  {
   "cell_type": "code",
   "execution_count": 50,
   "metadata": {},
   "outputs": [
    {
     "name": "stdout",
     "output_type": "stream",
     "text": [
      "'Redditor' object has no attribute 'id'\n"
     ]
    }
   ],
   "source": [
    "for i in suspect_user_list:\n",
    "    try:\n",
    "        uname = i.replace(\"u/\", \"\")\n",
    "        user = reddit.redditor(uname)\n",
    "        cur.execute(\"INSERT INTO public.sus_users (sus_user_id, sus_user_name, sus_user_comment_karma, sus_user_link_karma, account_created, has_verified_email, is_gold, is_mod) VALUES (%s, %s, %s, %s, %s, %s, %s, %s)\", (user.id,user.name,user.comment_karma, user.link_karma, user.created, user.has_verified_email, user.is_gold, user.is_mod))\n",
    "        conn.commit()\n",
    "    except Exception as e:\n",
    "        print(e)"
   ]
  }
 ],
 "metadata": {
  "interpreter": {
   "hash": "3b32922ae442944bae51de5c420d7545d4126864cdc0e7cb358b7d9924f39d3e"
  },
  "kernelspec": {
   "display_name": "Python 3.9.6 ('PythonData')",
   "language": "python",
   "name": "python3"
  },
  "language_info": {
   "codemirror_mode": {
    "name": "ipython",
    "version": 3
   },
   "file_extension": ".py",
   "mimetype": "text/x-python",
   "name": "python",
   "nbconvert_exporter": "python",
   "pygments_lexer": "ipython3",
   "version": "3.9.6"
  },
  "orig_nbformat": 4
 },
 "nbformat": 4,
 "nbformat_minor": 2
}
