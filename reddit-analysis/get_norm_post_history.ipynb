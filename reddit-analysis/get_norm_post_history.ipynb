{
 "cells": [
  {
   "cell_type": "code",
   "execution_count": 1,
   "metadata": {},
   "outputs": [],
   "source": [
    "from _keys import db_user, db_password, db_name, db_host, db_port\n",
    "import psycopg2\n",
    "import time\n",
    "import requests"
   ]
  },
  {
   "cell_type": "code",
   "execution_count": 2,
   "metadata": {},
   "outputs": [],
   "source": [
    "conn = psycopg2.connect(dbname=db_name, user=db_user, password=db_password, host=db_host, port=db_port)\n",
    "cur = conn.cursor()"
   ]
  },
  {
   "cell_type": "code",
   "execution_count": 3,
   "metadata": {},
   "outputs": [],
   "source": [
    "api = \"https://api.pushshift.io/reddit/search/submission?author=\"\n",
    "#4/1/2015 00:00:00\n",
    "after_time = 1427860800\n",
    "#1/1/2018 00:00:00\n",
    "final_time = 1514782800\n",
    "#response limit\n",
    "response_limit = 25"
   ]
  },
  {
   "cell_type": "code",
   "execution_count": 4,
   "metadata": {},
   "outputs": [],
   "source": [
    "sql = \"\"\"select norm_user_name from public.norm_users\"\"\""
   ]
  },
  {
   "cell_type": "code",
   "execution_count": 5,
   "metadata": {},
   "outputs": [],
   "source": [
    "# Get all sus_user_names and save to list\n",
    "names = []\n",
    "cur.execute(sql)\n",
    "for row in cur:\n",
    "    names.append(row[0])"
   ]
  },
  {
   "cell_type": "code",
   "execution_count": 6,
   "metadata": {},
   "outputs": [],
   "source": [
    "sql_insert = \"\"\"INSERT INTO public.norm_user_posts (author, author_flair_text, created_utm, domain, id, over_18, permalink, subreddit_id, title, url, post_score, subreddit, top_lvl_comments) VALUES (%s, %s, %s, %s, %s, %s, %s, %s, %s, %s, %s, %s, %s)\"\"\""
   ]
  },
  {
   "cell_type": "code",
   "execution_count": 7,
   "metadata": {},
   "outputs": [],
   "source": [
    "for name in names:\n",
    "    counter = after_time\n",
    "    user_post_count = 0\n",
    "    request = requests.get(f'{api}{name}&after={counter}&before={final_time}&size={response_limit}')\n",
    "    scanned_url = f'{api}{name}&after={counter}&before={final_time}&size={response_limit}'\n",
    "    try:\n",
    "        response = request.json()\n",
    "        submissions = response['data']\n",
    "        response_length = len(submissions)\n",
    "        while counter < final_time and user_post_count < 99 and response_length > 0:\n",
    "            try:\n",
    "                counter = submissions[-1]['created_utc']\n",
    "                for submission in submissions:\n",
    "                    try:\n",
    "                        cur.execute(sql_insert, (submission['author'], submission['author_flair_text'], submission['created_utc'], submission['domain'], submission['id'], submission['over_18'], submission['permalink'], submission['subreddit_id'], submission['title'], submission['url'], submission['score'], submission['subreddit'], submission['num_comments']))\n",
    "                        conn.commit()\n",
    "                        user_post_count += 1\n",
    "                    except Exception as e:\n",
    "                        # print(f'submission error ---->{e}')\n",
    "                        next\n",
    "            except Exception as e:\n",
    "                # print(f'user error ---->{e}')\n",
    "                time.sleep(1)\n",
    "                next\n",
    "    except Exception as e:\n",
    "        # print(f'query error ---->{e}, {request.status_code}, retry after ')\n",
    "        time.sleep(1)\n",
    "        next"
   ]
  }
 ],
 "metadata": {
  "interpreter": {
   "hash": "3b32922ae442944bae51de5c420d7545d4126864cdc0e7cb358b7d9924f39d3e"
  },
  "kernelspec": {
   "display_name": "Python 3.9.6 ('PythonData')",
   "language": "python",
   "name": "python3"
  },
  "language_info": {
   "codemirror_mode": {
    "name": "ipython",
    "version": 3
   },
   "file_extension": ".py",
   "mimetype": "text/x-python",
   "name": "python",
   "nbconvert_exporter": "python",
   "pygments_lexer": "ipython3",
   "version": "3.9.6"
  },
  "orig_nbformat": 4
 },
 "nbformat": 4,
 "nbformat_minor": 2
}
