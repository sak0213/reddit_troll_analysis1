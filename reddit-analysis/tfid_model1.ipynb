{
 "cells": [
  {
   "cell_type": "code",
   "execution_count": 102,
   "metadata": {},
   "outputs": [],
   "source": [
    "from sklearn.ensemble import ExtraTreesClassifier\n",
    "from sklearn.ensemble import RandomForestClassifier\n",
    "from sklearn.model_selection import train_test_split\n",
    "from sklearn.metrics import confusion_matrix\n",
    "from sklearn.metrics import classification_report\n",
    "from sklearn.metrics import f1_score\n",
    "import pandas as pd"
   ]
  },
  {
   "cell_type": "code",
   "execution_count": 103,
   "metadata": {},
   "outputs": [],
   "source": [
    "df = pd.read_csv('testing_tfids.csv')"
   ]
  },
  {
   "cell_type": "code",
   "execution_count": 104,
   "metadata": {},
   "outputs": [],
   "source": [
    "X = df.drop(['Unnamed: 0','author', 'is_bot'], axis=1)\n",
    "y = df['is_bot']"
   ]
  },
  {
   "cell_type": "code",
   "execution_count": 105,
   "metadata": {},
   "outputs": [],
   "source": [
    "X_train, X_test, y_train, y_test = train_test_split(X, y, test_size=0.25, random_state=0)"
   ]
  },
  {
   "cell_type": "code",
   "execution_count": 106,
   "metadata": {},
   "outputs": [],
   "source": [
    "from sklearn.model_selection import GridSearchCV\n",
    "from sklearn.pipeline import Pipeline\n",
    "\n",
    "def pipe_maker(classifier):\n",
    "    pipe = Pipeline([('clf', classifier)])\n",
    "    return pipe"
   ]
  },
  {
   "cell_type": "code",
   "execution_count": 107,
   "metadata": {},
   "outputs": [],
   "source": [
    "def gridsearch_maker(pipeline, params):\n",
    "    grid = GridSearchCV(pipeline, param_grid=params, cv=5, scoring='f1_weighted')\n",
    "    return grid"
   ]
  },
  {
   "cell_type": "code",
   "execution_count": 108,
   "metadata": {},
   "outputs": [],
   "source": [
    "def find_best_recall(gridsearch):\n",
    "    gridsearch.fit(X_train, y_train)\n",
    "    print('Best score:', gridsearch.best_score_)\n",
    "    print('Best parameters:', gridsearch.best_params_)\n",
    "    print('Best estimator:', gridsearch.best_estimator_)\n",
    "    return gridsearch.best_estimator_"
   ]
  },
  {
   "cell_type": "code",
   "execution_count": 110,
   "metadata": {},
   "outputs": [],
   "source": [
    "pipe_etclf = pipe_maker(RandomForestClassifier(),)\n",
    "params_etclf = {'clf__n_estimators': [10, 20, 30, 40, 50, 60, 70, 80, 90, 100],\n",
    "                'clf__criterion': ['gini', 'entropy'],\n",
    "                'clf__max_features': ['auto', 'sqrt', 'log2'],\n",
    "                'clf__max_depth': [None, 5, 10, 20, 30, 40, 50, 60, 70, 80, 90, 100]}"
   ]
  },
  {
   "cell_type": "code",
   "execution_count": 111,
   "metadata": {},
   "outputs": [
    {
     "name": "stdout",
     "output_type": "stream",
     "text": [
      "Best score: 0.7380251973100013\n",
      "Best parameters: {'clf__criterion': 'entropy', 'clf__max_depth': 40, 'clf__max_features': 'sqrt', 'clf__n_estimators': 30}\n",
      "Best estimator: Pipeline(steps=[('clf',\n",
      "                 RandomForestClassifier(criterion='entropy', max_depth=40,\n",
      "                                        max_features='sqrt',\n",
      "                                        n_estimators=30))])\n"
     ]
    },
    {
     "data": {
      "text/plain": [
       "Pipeline(steps=[('clf',\n",
       "                 RandomForestClassifier(criterion='entropy', max_depth=40,\n",
       "                                        max_features='sqrt',\n",
       "                                        n_estimators=30))])"
      ]
     },
     "execution_count": 111,
     "metadata": {},
     "output_type": "execute_result"
    }
   ],
   "source": [
    "find_best_recall(gridsearch_maker(pipe_etclf, params_etclf))"
   ]
  },
  {
   "cell_type": "code",
   "execution_count": 114,
   "metadata": {},
   "outputs": [],
   "source": [
    "clf = RandomForestClassifier(n_estimators=30, criterion='entropy', max_features='sqrt', max_depth=40)"
   ]
  },
  {
   "cell_type": "code",
   "execution_count": 115,
   "metadata": {},
   "outputs": [
    {
     "name": "stdout",
     "output_type": "stream",
     "text": [
      "Training set score: 0.980\n",
      "Test set score: 0.759\n",
      "              precision    recall  f1-score   support\n",
      "\n",
      "           0       0.72      1.00      0.84        86\n",
      "           1       1.00      0.35      0.52        51\n",
      "\n",
      "    accuracy                           0.76       137\n",
      "   macro avg       0.86      0.68      0.68       137\n",
      "weighted avg       0.83      0.76      0.72       137\n",
      "\n",
      "[[86  0]\n",
      " [33 18]]\n"
     ]
    }
   ],
   "source": [
    "clf.fit(X_train, y_train)\n",
    "print('Training set score: {:.3f}'.format(clf.score(X_train, y_train)))\n",
    "print('Test set score: {:.3f}'.format(clf.score(X_test, y_test)))\n",
    "print(classification_report(y_test, clf.predict(X_test)))\n",
    "print(confusion_matrix(y_test, clf.predict(X_test)))"
   ]
  }
 ],
 "metadata": {
  "interpreter": {
   "hash": "3b32922ae442944bae51de5c420d7545d4126864cdc0e7cb358b7d9924f39d3e"
  },
  "kernelspec": {
   "display_name": "Python 3.9.6 ('PythonData')",
   "language": "python",
   "name": "python3"
  },
  "language_info": {
   "codemirror_mode": {
    "name": "ipython",
    "version": 3
   },
   "file_extension": ".py",
   "mimetype": "text/x-python",
   "name": "python",
   "nbconvert_exporter": "python",
   "pygments_lexer": "ipython3",
   "version": "3.9.6"
  },
  "orig_nbformat": 4
 },
 "nbformat": 4,
 "nbformat_minor": 2
}
