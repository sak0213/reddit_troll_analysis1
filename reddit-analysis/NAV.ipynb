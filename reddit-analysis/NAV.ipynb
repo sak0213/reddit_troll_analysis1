{
 "cells": [
  {
   "cell_type": "code",
   "execution_count": 1,
   "metadata": {},
   "outputs": [],
   "source": [
    "import praw\n",
    "from _keys import client_id, secret_key, username, user_agent, password, db_user, db_password, db_name, db_host, db_port\n",
    "import psycopg2"
   ]
  },
  {
   "cell_type": "code",
   "execution_count": 2,
   "metadata": {},
   "outputs": [],
   "source": [
    "reddit = praw.Reddit(client_id=client_id, client_secret=secret_key, username=username, password=password, user_agent=user_agent)\n",
    "conn = psycopg2.connect(dbname=db_name, user=db_user, password=db_password, host=db_host, port=db_port)\n",
    "cur = conn.cursor()"
   ]
  },
  {
   "cell_type": "code",
   "execution_count": 3,
   "metadata": {},
   "outputs": [],
   "source": [
    "sql = \"\"\"\n",
    "select all_events.subreddit\n",
    "from\n",
    "\t(select *\n",
    "\tfrom (\n",
    "\tselect author, title as submission, created_utm as time_created, subreddit, 'post' as submission_type\n",
    "\tfrom sus_user_posts\n",
    "\twhere title !='This account is banned and is temporarily preserved for purposes of transparency.') as posts_aggregate\n",
    "\tunion\n",
    "\tselect *\n",
    "\tfrom (\n",
    "\tselect author, comment_body as submission, created_utc as time_created, subreddit, 'comment' as submission_type\n",
    "\tfrom sus_user_comments) as comments_aggregate) as all_events\n",
    "group by all_events.subreddit\n",
    "order by count (*) desc\n",
    "\"\"\"\n",
    "# Get all sus_user_names and save to list\n",
    "names = []\n",
    "cur.execute(sql)\n",
    "for row in cur:\n",
    "    names.append(row[0])"
   ]
  },
  {
   "cell_type": "code",
   "execution_count": 4,
   "metadata": {},
   "outputs": [],
   "source": [
    "# tester = names[0]\n",
    "# api = \"https://api.pushshift.io/reddit/search/submission\"\n",
    "# #4/1/2015 00:00:00\n",
    "# after_time = 1427860800\n",
    "# #1/1/2018 00:00:00\n",
    "# final_time = 1514782800\n",
    "# #response limit\n",
    "# response_limit = 500"
   ]
  },
  {
   "cell_type": "code",
   "execution_count": 5,
   "metadata": {},
   "outputs": [],
   "source": [
    "# sql_insert = \"\"\"INSERT INTO public.norm_user_posts (author, author_fullname, author_flair_text, author_is_blocked, author_premium, can_mod_post,\n",
    "#  created_utm, domain, id, is_created_from_ads_ui, is_crosspostable, is_meta, is_original_content, is_reddit_media_domain, is_robot_indexable,\n",
    "#  is_self, is_video, locked, over_18, permalink, subreddit_id, title, url, post_score, subreddit, top_lvl_comments, total_comments) VALUES (%s, %s, %s, %s, %s, %s, %s, %s, %s, %s, %s, %s, %s, %s, %s, %s, %s, %s, %s, %s, %s, %s, %s, %s, %s, %s, %s)\"\"\""
   ]
  },
  {
   "cell_type": "code",
   "execution_count": 6,
   "metadata": {},
   "outputs": [],
   "source": [
    "# for name in names[:10]:\n",
    "#     counter = after_time\n",
    "#     printcount = 0\n",
    "#     post_count = 0\n",
    "#     stop_time = check_if_sub_is_alive(sub, final_time)\n",
    "#     while counter < stop_time and post_count < 1000:\n",
    "#         try:\n",
    "#             request = requests.get(f'{api}?author={tester}&after={after_time}&before={final_time}&size={response_limit}')\n",
    "#             response = request.json()\n",
    "#             result = response[\"data\"]\n",
    "#             counter_list = []\n",
    "#             for i in result:\n",
    "#                 cur.execute(insert_sql, (i[\"author\"], i[\"subreddit\"]))\n",
    "#                 counter_list.append(i[\"created_utc\"])\n",
    "#                 post_count +=1\n",
    "#             conn.commit()\n",
    "#             counter = max(counter_list)\n",
    "#             time.sleep(1.001)\n",
    "#         except Exception as e:\n",
    "#             time.sleep(1)\n",
    "#             print(f'api pull error --{e}')\n",
    "#             print(f'{i[\"subreddit\"]} -- {request.status_code}')"
   ]
  },
  {
   "cell_type": "code",
   "execution_count": 7,
   "metadata": {},
   "outputs": [],
   "source": [
    "for name in names:\n",
    "    try:\n",
    "        sub = reddit.subreddit(name)\n",
    "        cur.execute(\"\"\"insert into subreddit_info (subreddit_name, user_count, sub_description, over18, created_utc) values (%s, %s, %s, %s, %s)\"\"\", (name, sub.subscribers, sub.public_description, sub.over18, sub.created_utc))\n",
    "        conn.commit()\n",
    "    except Exception as e:\n",
    "        print(e)\n"
   ]
  }
 ],
 "metadata": {
  "interpreter": {
   "hash": "3b32922ae442944bae51de5c420d7545d4126864cdc0e7cb358b7d9924f39d3e"
  },
  "kernelspec": {
   "display_name": "Python 3.9.6 ('PythonData')",
   "language": "python",
   "name": "python3"
  },
  "language_info": {
   "codemirror_mode": {
    "name": "ipython",
    "version": 3
   },
   "file_extension": ".py",
   "mimetype": "text/x-python",
   "name": "python",
   "nbconvert_exporter": "python",
   "pygments_lexer": "ipython3",
   "version": "3.9.6"
  },
  "orig_nbformat": 4
 },
 "nbformat": 4,
 "nbformat_minor": 2
}
